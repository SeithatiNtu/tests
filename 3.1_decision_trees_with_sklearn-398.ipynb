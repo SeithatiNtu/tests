{
 "cells": [
  {
   "cell_type": "markdown",
   "metadata": {},
   "source": [
    "# Introduction to Decision Trees\n",
    "----"
   ]
  },
  {
   "cell_type": "markdown",
   "metadata": {},
   "source": [
    "Before we build our first tree, it is worth learning a bit about _how_ they work. Below is a diagram showing the conceptual structure of a decision tree.\n",
    "\n",
    "![Tree1](https://github.com/James-Leslie/Learning-Library/blob/master/Regression/3_Tree-Based_Regression/tree_1.png?raw=true)\n",
    "\n",
    "Decision trees consist of:\n",
    " * Root node\n",
    " * Decision nodes\n",
    " * Terminal nodes\n",
    " \n",
    "The tree above is used to partition data which consists of two variables, X and Y.    \n",
    "We will refer to X as the independent variable which is being used to predict Y.   \n",
    "\n",
    "All data points are passed from the root node, through the decision nodes until they find their matching terminal node.   "
   ]
  },
  {
   "cell_type": "markdown",
   "metadata": {},
   "source": [
    "## Decision process\n",
    "Consider the example of a new datapoint with an X value of 4.5. Suppose we wanted to predict the Y value for this new datapoint - the path that the new point would follow along the decision tree is shown below:       \n",
    "\n",
    "![Tree3](https://github.com/James-Leslie/Learning-Library/blob/master/Regression/3_Tree-Based_Regression/tree_3.png?raw=true)\n",
    "The new datapoint would follow the green path shown above and would eventually be assigned a Y value of 2.   \n",
    "\n",
    "Okay great, so we know how to _use_ a decision tree. But where did the values of the split points come from, and how do we know how many 'branches' the tree should have? "
   ]
  },
  {
   "cell_type": "markdown",
   "metadata": {},
   "source": [
    "## Training a decision tree\n",
    "In the decision process, datapoints start at the root node and end at a terminal node. The training process follows the same pattern.   \n",
    "\n",
    "In training a decision tree, we begin with all of our training data at the root node and then partition the data into smaller subsets which form the 'branches' of the tree.   "
   ]
  },
  {
   "cell_type": "markdown",
   "metadata": {},
   "source": [
    "When partitioning the data, two questions need to be answered:\n",
    " 1. which predictor variable should be used as the split criterion?\n",
    " 2. what value of the predictor variable should be used as the splitting point?"
   ]
  },
  {
   "cell_type": "markdown",
   "metadata": {},
   "source": [
    "Partitioning happens at each node in the tree using an algorithm known as **recursive binary splitting** which uses the following logic:\n",
    " 1. Consider all possible predictor variables\n",
    "  * Consider all possible splits for each variable\n",
    " 2. Select predictor and split based on best separation of data\n",
    " 3. Divide data into 2 subsets based on the selected split\n",
    " 4. Repeat steps 1-3 for all subsets until some desired ending criteria has been reached\n",
    "   \n",
    "![Split1](https://github.com/James-Leslie/Learning-Library/blob/master/Regression/3_Tree-Based_Regression/splitting_1.png?raw=true)"
   ]
  },
  {
   "cell_type": "markdown",
   "metadata": {},
   "source": [
    "The best split point is chosen on its ability to separate the data. On either side of the split point, all datapoints' y values are compared to the mean y value of that subset and this is used to calculate the **mean squared error** (MSE). The best split point is the one which minimises the MSE on both sides.   \n",
    "\n",
    "After a number of splits, the final partitions might look something like the diagram below:\n",
    "\n",
    "![Split2](https://github.com/James-Leslie/Learning-Library/blob/master/Regression/3_Tree-Based_Regression/splitting_2.png?raw=true)"
   ]
  },
  {
   "cell_type": "markdown",
   "metadata": {},
   "source": [
    "## Build a Decision Tree using scikit-learn\n",
    "---\n",
    "So now that we have an understanding of how decision trees work, let's implement one using scikit-learn.   \n",
    "\n",
    "We'll start by importing some commonly used Python libraries and loading our data:"
   ]
  },
  {
   "cell_type": "code",
   "execution_count": 1,
   "metadata": {},
   "outputs": [],
   "source": [
    "import numpy as np  # used for mathematical operations\n",
    "import pandas as pd  # for loading CSV data\n",
    "import matplotlib.pyplot as plt  # for plotting data\n",
    "import seaborn as sns  # to make plots look nicer"
   ]
  },
  {
   "cell_type": "code",
   "execution_count": 2,
   "metadata": {},
   "outputs": [
    {
     "data": {
      "text/html": [
       "<div>\n",
       "<style scoped>\n",
       "    .dataframe tbody tr th:only-of-type {\n",
       "        vertical-align: middle;\n",
       "    }\n",
       "\n",
       "    .dataframe tbody tr th {\n",
       "        vertical-align: top;\n",
       "    }\n",
       "\n",
       "    .dataframe thead th {\n",
       "        text-align: right;\n",
       "    }\n",
       "</style>\n",
       "<table border=\"1\" class=\"dataframe\">\n",
       "  <thead>\n",
       "    <tr style=\"text-align: right;\">\n",
       "      <th></th>\n",
       "      <th>ZAR/USD</th>\n",
       "      <th>Value of Exports (ZAR)</th>\n",
       "    </tr>\n",
       "  </thead>\n",
       "  <tbody>\n",
       "    <tr>\n",
       "      <th>2008M01</th>\n",
       "      <td>7.01</td>\n",
       "      <td>39356.82</td>\n",
       "    </tr>\n",
       "    <tr>\n",
       "      <th>2008M02</th>\n",
       "      <td>7.66</td>\n",
       "      <td>46946.33</td>\n",
       "    </tr>\n",
       "    <tr>\n",
       "      <th>2008M03</th>\n",
       "      <td>7.97</td>\n",
       "      <td>51150.89</td>\n",
       "    </tr>\n",
       "    <tr>\n",
       "      <th>2008M04</th>\n",
       "      <td>7.79</td>\n",
       "      <td>56174.34</td>\n",
       "    </tr>\n",
       "    <tr>\n",
       "      <th>2008M05</th>\n",
       "      <td>7.62</td>\n",
       "      <td>56240.45</td>\n",
       "    </tr>\n",
       "  </tbody>\n",
       "</table>\n",
       "</div>"
      ],
      "text/plain": [
       "         ZAR/USD  Value of Exports (ZAR)\n",
       "2008M01     7.01                39356.82\n",
       "2008M02     7.66                46946.33\n",
       "2008M03     7.97                51150.89\n",
       "2008M04     7.79                56174.34\n",
       "2008M05     7.62                56240.45"
      ]
     },
     "execution_count": 2,
     "metadata": {},
     "output_type": "execute_result"
    }
   ],
   "source": [
    "df = pd.read_csv('data_1.csv', index_col=0)\n",
    "df.head()"
   ]
  },
  {
   "cell_type": "markdown",
   "metadata": {},
   "source": [
    "The data we will be working with here consists of two variables:\n",
    " * Rand/Dollar exchange rate\n",
    " * Value of South Africa exports\n",
    " \n",
    "We will be using the value of exports (independent variable) to try and predict the exchange rate (dependent variable).   \n",
    "\n",
    "Let's take a look at the data using matplotlib:"
   ]
  },
  {
   "cell_type": "code",
   "execution_count": 3,
   "metadata": {},
   "outputs": [
    {
     "data": {
      "image/png": "[encoded data removed]",
      "text/plain": [
       "<Figure size 432x288 with 1 Axes>"
      ]
     },
     "metadata": {},
     "output_type": "display_data"
    }
   ],
   "source": [
    "y = df['ZAR/USD'].values  # dependent variable\n",
    "X = df.drop('ZAR/USD', axis=1).values  # independent variable\n",
    "\n",
    "plt.scatter(X, y)  # create scatter plot\n",
    "plt.show()  # display the plot"
   ]
  },
  {
   "cell_type": "code",
   "execution_count": 4,
   "metadata": {},
   "outputs": [],
   "source": [
    "from sklearn import tree\n",
    "from sklearn.tree import DecisionTreeRegressor"
   ]
  },
  {
   "cell_type": "code",
   "execution_count": 5,
   "metadata": {},
   "outputs": [
    {
     "data": {
      "text/plain": [
       "DecisionTreeRegressor(criterion='mse', max_depth=2, max_features=None,\n",
       "           max_leaf_nodes=None, min_impurity_decrease=0.0,\n",
       "           min_impurity_split=None, min_samples_leaf=1,\n",
       "           min_samples_split=2, min_weight_fraction_leaf=0.0,\n",
       "           presort=False, random_state=None, splitter='best')"
      ]
     },
     "execution_count": 5,
     "metadata": {},
     "output_type": "execute_result"
    }
   ],
   "source": [
    "# fit regression trees\n",
    "regr_tree = DecisionTreeRegressor(max_depth=2)\n",
    "regr_tree.fit(X, y)"
   ]
  },
  {
   "cell_type": "code",
   "execution_count": 6,
   "metadata": {},
   "outputs": [],
   "source": [
    "X_test = np.arange(min(X), max(X), 100)[:, np.newaxis]"
   ]
  },
  {
   "cell_type": "code",
   "execution_count": 7,
   "metadata": {},
   "outputs": [
    {
     "data": {
      "text/plain": [
       "800"
      ]
     },
     "execution_count": 7,
     "metadata": {},
     "output_type": "execute_result"
    }
   ],
   "source": [
    "len(X_test)"
   ]
  },
  {
   "cell_type": "code",
   "execution_count": 8,
   "metadata": {},
   "outputs": [],
   "source": [
    "# predict\n",
    "gen_y = regr_tree.predict(X_test)"
   ]
  },
  {
   "cell_type": "code",
   "execution_count": 10,
   "metadata": {},
   "outputs": [
    {
     "data": {
      "image/png": "[encoded data removed]",
      "text/plain": [
       "<Figure size 432x288 with 1 Axes>"
      ]
     },
     "metadata": {},
     "output_type": "display_data"
    }
   ],
   "source": [
    "# plot the results\n",
    "plt.figure()\n",
    "plt.scatter(X, y)\n",
    "plt.plot(X_test, gen_y, color=\"red\", label='predictions')\n",
    "plt.xlabel(\"Value of Exports\")\n",
    "plt.ylabel(\"ZAR/USD\")\n",
    "plt.title(\"Decision Tree Regression\")\n",
    "plt.legend()\n",
    "plt.show()"
   ]
  }
 ],
 "metadata": {
  "kernelspec": {
   "display_name": "Python 3",
   "language": "python",
   "name": "python3"
  },
  "language_info": {
   "codemirror_mode": {
    "name": "ipython",
    "version": 3
   },
   "file_extension": ".py",
   "mimetype": "text/x-python",
   "name": "python",
   "nbconvert_exporter": "python",
   "pygments_lexer": "ipython3",
   "version": "3.6.7"
  }
 },
 "nbformat": 4,
 "nbformat_minor": 2
}
